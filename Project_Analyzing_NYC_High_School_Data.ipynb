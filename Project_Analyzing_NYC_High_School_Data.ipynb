{
  "nbformat": 4,
  "nbformat_minor": 0,
  "metadata": {
    "colab": {
      "name": "Project: Analyzing NYC High School Data.ipynb",
      "provenance": [],
      "authorship_tag": "ABX9TyOjCTM/+x5XB0p/A8wpsFjc",
      "include_colab_link": true
    },
    "kernelspec": {
      "name": "python3",
      "display_name": "Python 3"
    },
    "language_info": {
      "name": "python"
    }
  },
  "cells": [
    {
      "cell_type": "markdown",
      "metadata": {
        "id": "view-in-github",
        "colab_type": "text"
      },
      "source": [
        "<a href=\"https://colab.research.google.com/github/hoangvn111/Project-Analyzing-NYC-High-School-Data/blob/master/Project_Analyzing_NYC_High_School_Data.ipynb\" target=\"_parent\"><img src=\"https://colab.research.google.com/assets/colab-badge.svg\" alt=\"Open In Colab\"/></a>"
      ]
    },
    {
      "cell_type": "code",
      "metadata": {
        "colab": {
          "base_uri": "https://localhost:8080/"
        },
        "id": "4k6_adyBa8Mo",
        "outputId": "26fced00-66c5-4c18-af7c-ddef5df7f2ba"
      },
      "source": [
        "from google.colab import drive\n",
        "drive.mount('/content/drive/')"
      ],
      "execution_count": 1,
      "outputs": [
        {
          "output_type": "stream",
          "text": [
            "Drive already mounted at /content/drive/; to attempt to forcibly remount, call drive.mount(\"/content/drive/\", force_remount=True).\n"
          ],
          "name": "stdout"
        }
      ]
    },
    {
      "cell_type": "markdown",
      "metadata": {
        "id": "JyWcv93Cbgn6"
      },
      "source": [
        "## Read in the Data"
      ]
    },
    {
      "cell_type": "code",
      "metadata": {
        "id": "CspfU7eRbCk4"
      },
      "source": [
        "import pandas as pd\n",
        "import numpy as np\n",
        "import re\n",
        "\n",
        "data_files = [\n",
        "    \"ap_2010.csv\",\n",
        "    \"class_size.csv\",\n",
        "    \"demographics.csv\",\n",
        "    \"graduation.csv\",\n",
        "    \"hs_directory.csv\",\n",
        "    \"sat_results.csv\"\n",
        "]\n",
        "\n",
        "data = {}\n",
        "\n",
        "for f in data_files:\n",
        "    d = pd.read_csv(\"/content/drive/MyDrive/my_datasets/Project: Analyzing NYC High School Data/{0}\".format(f))\n",
        "    data[f.replace(\".csv\", \"\")] = d"
      ],
      "execution_count": 2,
      "outputs": []
    },
    {
      "cell_type": "markdown",
      "metadata": {
        "id": "zqFIBun2bliB"
      },
      "source": [
        "## Read in the Surveys"
      ]
    },
    {
      "cell_type": "code",
      "metadata": {
        "id": "KMc-8E3sbRA1"
      },
      "source": [
        "all_survey = pd.read_csv(\"/content/drive/MyDrive/my_datasets/Project: Analyzing NYC High School Data/survey_all.txt\", delimiter=\"\\t\", encoding='windows-1252')\n",
        "d75_survey = pd.read_csv(\"/content/drive/MyDrive/my_datasets/Project: Analyzing NYC High School Data/survey_d75.txt\", delimiter=\"\\t\", encoding='windows-1252')\n",
        "survey = pd.concat([all_survey, d75_survey], axis=0)\n",
        "\n",
        "survey[\"DBN\"] = survey[\"dbn\"]\n",
        "\n",
        "survey_fields = [\n",
        "    \"DBN\", \n",
        "    \"rr_s\", \n",
        "    \"rr_t\", \n",
        "    \"rr_p\", \n",
        "    \"N_s\", \n",
        "    \"N_t\", \n",
        "    \"N_p\", \n",
        "    \"saf_p_11\", \n",
        "    \"com_p_11\", \n",
        "    \"eng_p_11\", \n",
        "    \"aca_p_11\", \n",
        "    \"saf_t_11\", \n",
        "    \"com_t_11\", \n",
        "    \"eng_t_11\", \n",
        "    \"aca_t_11\", \n",
        "    \"saf_s_11\", \n",
        "    \"com_s_11\", \n",
        "    \"eng_s_11\", \n",
        "    \"aca_s_11\", \n",
        "    \"saf_tot_11\", \n",
        "    \"com_tot_11\", \n",
        "    \"eng_tot_11\", \n",
        "    \"aca_tot_11\",\n",
        "]\n",
        "survey = survey.loc[:,survey_fields]\n",
        "data[\"survey\"] = survey"
      ],
      "execution_count": 3,
      "outputs": []
    },
    {
      "cell_type": "markdown",
      "metadata": {
        "id": "SbRPANn-byJp"
      },
      "source": [
        "## Add DBN columns"
      ]
    },
    {
      "cell_type": "code",
      "metadata": {
        "id": "WkscqVBNbpN9"
      },
      "source": [
        "data[\"hs_directory\"][\"DBN\"] = data[\"hs_directory\"][\"dbn\"]\n",
        "\n",
        "def pad_csd(num):\n",
        "    string_representation = str(num)\n",
        "    if len(string_representation) > 1:\n",
        "        return string_representation\n",
        "    else:\n",
        "        return \"0\" + string_representation\n",
        "    \n",
        "data[\"class_size\"][\"padded_csd\"] = data[\"class_size\"][\"CSD\"].apply(pad_csd)\n",
        "data[\"class_size\"][\"DBN\"] = data[\"class_size\"][\"padded_csd\"] + data[\"class_size\"][\"SCHOOL CODE\"]"
      ],
      "execution_count": 4,
      "outputs": []
    },
    {
      "cell_type": "markdown",
      "metadata": {
        "id": "APGAEte2b587"
      },
      "source": [
        "## Convert columns to numeric"
      ]
    },
    {
      "cell_type": "code",
      "metadata": {
        "id": "HkmqIjjKb2wO"
      },
      "source": [
        "cols = ['SAT Math Avg. Score', 'SAT Critical Reading Avg. Score', 'SAT Writing Avg. Score']\n",
        "for c in cols:\n",
        "    data[\"sat_results\"][c] = pd.to_numeric(data[\"sat_results\"][c], errors=\"coerce\")\n",
        "\n",
        "data['sat_results']['sat_score'] = data['sat_results'][cols[0]] + data['sat_results'][cols[1]] + data['sat_results'][cols[2]]\n",
        "\n",
        "def find_lat(loc):\n",
        "    coords = re.findall(\"\\(.+, .+\\)\", loc)\n",
        "    lat = coords[0].split(\",\")[0].replace(\"(\", \"\")\n",
        "    return lat\n",
        "\n",
        "def find_lon(loc):\n",
        "    coords = re.findall(\"\\(.+, .+\\)\", loc)\n",
        "    lon = coords[0].split(\",\")[1].replace(\")\", \"\").strip()\n",
        "    return lon\n",
        "\n",
        "data[\"hs_directory\"][\"lat\"] = data[\"hs_directory\"][\"Location 1\"].apply(find_lat)\n",
        "data[\"hs_directory\"][\"lon\"] = data[\"hs_directory\"][\"Location 1\"].apply(find_lon)\n",
        "\n",
        "data[\"hs_directory\"][\"lat\"] = pd.to_numeric(data[\"hs_directory\"][\"lat\"], errors=\"coerce\")\n",
        "data[\"hs_directory\"][\"lon\"] = pd.to_numeric(data[\"hs_directory\"][\"lon\"], errors=\"coerce\")"
      ],
      "execution_count": 5,
      "outputs": []
    },
    {
      "cell_type": "markdown",
      "metadata": {
        "id": "e7ZI0bnQcB-h"
      },
      "source": [
        "## Condense datasets"
      ]
    },
    {
      "cell_type": "code",
      "metadata": {
        "id": "X9FdnIjscAfe"
      },
      "source": [
        "class_size = data[\"class_size\"]\n",
        "class_size = class_size[class_size[\"GRADE \"] == \"09-12\"]\n",
        "class_size = class_size[class_size[\"PROGRAM TYPE\"] == \"GEN ED\"]\n",
        "\n",
        "class_size = class_size.groupby(\"DBN\").agg(np.mean)\n",
        "class_size.reset_index(inplace=True)\n",
        "data[\"class_size\"] = class_size\n",
        "\n",
        "data[\"demographics\"] = data[\"demographics\"][data[\"demographics\"][\"schoolyear\"] == 20112012]\n",
        "\n",
        "data[\"graduation\"] = data[\"graduation\"][data[\"graduation\"][\"Cohort\"] == \"2006\"]\n",
        "data[\"graduation\"] = data[\"graduation\"][data[\"graduation\"][\"Demographic\"] == \"Total Cohort\"]"
      ],
      "execution_count": 6,
      "outputs": []
    },
    {
      "cell_type": "markdown",
      "metadata": {
        "id": "CJx45ZoCcJxH"
      },
      "source": [
        "## Convert AP scores to numeric"
      ]
    },
    {
      "cell_type": "code",
      "metadata": {
        "id": "HX9xzm-lcFc2"
      },
      "source": [
        "cols = ['AP Test Takers ', 'Total Exams Taken', 'Number of Exams with scores 3 4 or 5']\n",
        "\n",
        "for col in cols:\n",
        "    data[\"ap_2010\"][col] = pd.to_numeric(data[\"ap_2010\"][col], errors=\"coerce\")"
      ],
      "execution_count": 7,
      "outputs": []
    },
    {
      "cell_type": "markdown",
      "metadata": {
        "id": "sM2g-sv7cqOX"
      },
      "source": [
        "## Combine the datasets"
      ]
    },
    {
      "cell_type": "code",
      "metadata": {
        "id": "nOs5WpS-co6v"
      },
      "source": [
        "combined = data[\"sat_results\"]\n",
        "\n",
        "combined = combined.merge(data[\"ap_2010\"], on=\"DBN\", how=\"left\")\n",
        "combined = combined.merge(data[\"graduation\"], on=\"DBN\", how=\"left\")\n",
        "\n",
        "to_merge = [\"class_size\", \"demographics\", \"survey\", \"hs_directory\"]\n",
        "\n",
        "for m in to_merge:\n",
        "    combined = combined.merge(data[m], on=\"DBN\", how=\"inner\")\n",
        "\n",
        "combined = combined.fillna(combined.mean())\n",
        "combined = combined.fillna(0)"
      ],
      "execution_count": 8,
      "outputs": []
    },
    {
      "cell_type": "markdown",
      "metadata": {
        "id": "yYT7MDLicz5l"
      },
      "source": [
        "## Add school district for mapping"
      ]
    },
    {
      "cell_type": "code",
      "metadata": {
        "id": "w1bspOhgcxv1"
      },
      "source": [
        "def get_first_two_chars(dbn):\n",
        "    return dbn[0:2]\n",
        "\n",
        "combined[\"school_dist\"] = combined[\"DBN\"].apply(get_first_two_chars)"
      ],
      "execution_count": 9,
      "outputs": []
    },
    {
      "cell_type": "markdown",
      "metadata": {
        "id": "_2PCFDSPdHrU"
      },
      "source": [
        "## Find correlations"
      ]
    },
    {
      "cell_type": "code",
      "metadata": {
        "colab": {
          "base_uri": "https://localhost:8080/"
        },
        "id": "ytw3yaA0dGsd",
        "outputId": "a4616d5b-2fac-4e07-fc39-d3ad449a9931"
      },
      "source": [
        "correlations = combined.corr()\n",
        "correlations = correlations[\"sat_score\"]\n",
        "print(correlations)"
      ],
      "execution_count": 10,
      "outputs": [
        {
          "output_type": "stream",
          "text": [
            "SAT Critical Reading Avg. Score    0.986820\n",
            "SAT Math Avg. Score                0.972643\n",
            "SAT Writing Avg. Score             0.987771\n",
            "sat_score                          1.000000\n",
            "AP Test Takers                     0.523140\n",
            "                                     ...   \n",
            "priority08                              NaN\n",
            "priority09                              NaN\n",
            "priority10                              NaN\n",
            "lat                               -0.121029\n",
            "lon                               -0.132222\n",
            "Name: sat_score, Length: 67, dtype: float64\n"
          ],
          "name": "stdout"
        }
      ]
    },
    {
      "cell_type": "markdown",
      "metadata": {
        "id": "yxGSg5O2dVvm"
      },
      "source": [
        "## Plotting survey correlations"
      ]
    },
    {
      "cell_type": "code",
      "metadata": {
        "id": "3uzK9No6dOcr"
      },
      "source": [
        "# Remove DBN since it's a unique identifier, not a useful numerical value for correlation.\n",
        "survey_fields.remove(\"DBN\")"
      ],
      "execution_count": 11,
      "outputs": []
    },
    {
      "cell_type": "code",
      "metadata": {
        "colab": {
          "base_uri": "https://localhost:8080/"
        },
        "id": "uYoIL7XsfOnY",
        "outputId": "f0b161e6-4427-45a6-d321-9f79748927c9"
      },
      "source": [
        "survey_fields"
      ],
      "execution_count": 12,
      "outputs": [
        {
          "output_type": "execute_result",
          "data": {
            "text/plain": [
              "['rr_s',\n",
              " 'rr_t',\n",
              " 'rr_p',\n",
              " 'N_s',\n",
              " 'N_t',\n",
              " 'N_p',\n",
              " 'saf_p_11',\n",
              " 'com_p_11',\n",
              " 'eng_p_11',\n",
              " 'aca_p_11',\n",
              " 'saf_t_11',\n",
              " 'com_t_11',\n",
              " 'eng_t_11',\n",
              " 'aca_t_11',\n",
              " 'saf_s_11',\n",
              " 'com_s_11',\n",
              " 'eng_s_11',\n",
              " 'aca_s_11',\n",
              " 'saf_tot_11',\n",
              " 'com_tot_11',\n",
              " 'eng_tot_11',\n",
              " 'aca_tot_11']"
            ]
          },
          "metadata": {
            "tags": []
          },
          "execution_count": 12
        }
      ]
    },
    {
      "cell_type": "code",
      "metadata": {
        "colab": {
          "base_uri": "https://localhost:8080/",
          "height": 313
        },
        "id": "WMBs2Ev1dcul",
        "outputId": "a55a2a56-3e90-4869-d5a7-205bff21cdd7"
      },
      "source": [
        "import matplotlib.pyplot as plt\n",
        "\n",
        "\n",
        "# correlations = correlations[survey_fields]\n",
        "# correlations = correlations.apply(lambda x: x *(-1) if (x < 0) else x)\n",
        "# correlations.plot.barh()\n",
        "\n",
        "# Make a bar plot of the correlations between survey_fields and sat_score\n",
        "combined.corr()[\"sat_score\"][survey_fields].plot.bar()\n",
        "plt.show()"
      ],
      "execution_count": 13,
      "outputs": [
        {
          "output_type": "display_data",
          "data": {
            "image/png": "[encoded data removed]",
            "text/plain": [
              "<Figure size 432x288 with 1 Axes>"
            ]
          },
          "metadata": {
            "tags": [],
            "needs_background": "light"
          }
        }
      ]
    },
    {
      "cell_type": "markdown",
      "metadata": {
        "id": "FG9UmbrIiJHk"
      },
      "source": [
        "There are high correlations between **N_s**, **N_t**, **N_p** and **sat_score**. Since these columns are correlated with **total_enrollment**, it makes sense that they would be high.\n",
        "\n",
        "It is more interesting that **rr_s**, the student response rate, or the percentage of students that completed the survey, correlates with **sat_score**. This might make sense because students who are more likely to fill out surveys may be more likely to also be doing well academically.\n",
        "\n",
        "How students and teachers percieved safety (**saf_t_11** and **saf_s_11**) correlate with **sat_score**. This make sense, as it's hard to teach or learn in an unsafe environment.\n",
        "\n",
        "The last interesting correlation is the **aca_s_11**, which indicates how the student perceives academic standards, correlates with **sat_score**, but this is not true for **aca_t_11**, how teachers perceive academic standards, or **aca_p_11**, how parents perceive academic standards."
      ]
    },
    {
      "cell_type": "markdown",
      "metadata": {
        "id": "OxGWjOgPi1wm"
      },
      "source": [
        "## Exploring Safety and SAT Scores"
      ]
    },
    {
      "cell_type": "code",
      "metadata": {
        "colab": {
          "base_uri": "https://localhost:8080/",
          "height": 297
        },
        "id": "js04qXN8e0DO",
        "outputId": "9ce60aa9-ecee-4c6c-9343-b7f21551baca"
      },
      "source": [
        "# Make a scatter plot of the saf_s_11 vs sat_score\n",
        "combined.plot.scatter('saf_s_11', 'sat_score')\n",
        "plt.show()\n",
        "\n",
        "combined['saf_s_11'].corr(combined['sat_score'])\n"
      ],
      "execution_count": 14,
      "outputs": [
        {
          "output_type": "display_data",
          "data": {
            "image/png": "[encoded data removed]",
            "text/plain": [
              "<Figure size 432x288 with 1 Axes>"
            ]
          },
          "metadata": {
            "tags": [],
            "needs_background": "light"
          }
        },
        {
          "output_type": "execute_result",
          "data": {
            "text/plain": [
              "0.3376387443608813"
            ]
          },
          "metadata": {
            "tags": []
          },
          "execution_count": 14
        }
      ]
    },
    {
      "cell_type": "markdown",
      "metadata": {
        "id": "5wNECX8PmTLb"
      },
      "source": [
        "\n",
        "There appears to be a correlation between SAT scores and safety, although it isn't thatstrong. It looks like there are a few schools with extremely high SAT scores and high safety scores. There are a few schools with low safety scores and low SAT scores. No school with a safety score lower than 6.5 has an average SAT score higher than 1500 or so."
      ]
    },
    {
      "cell_type": "code",
      "metadata": {
        "colab": {
          "base_uri": "https://localhost:8080/"
        },
        "id": "wH_Y4eaaj-C3",
        "outputId": "c82eded4-4ac8-4a0d-bc01-798d37a8037c"
      },
      "source": [
        "# Find column name contain value of borough\n",
        "combined.columns.to_list()\n",
        "# column 'boro'"
      ],
      "execution_count": 15,
      "outputs": [
        {
          "output_type": "execute_result",
          "data": {
            "text/plain": [
              "['DBN',\n",
              " 'SCHOOL NAME',\n",
              " 'Num of SAT Test Takers',\n",
              " 'SAT Critical Reading Avg. Score',\n",
              " 'SAT Math Avg. Score',\n",
              " 'SAT Writing Avg. Score',\n",
              " 'sat_score',\n",
              " 'SchoolName',\n",
              " 'AP Test Takers ',\n",
              " 'Total Exams Taken',\n",
              " 'Number of Exams with scores 3 4 or 5',\n",
              " 'Demographic',\n",
              " 'School Name',\n",
              " 'Cohort',\n",
              " 'Total Cohort',\n",
              " 'Total Grads - n',\n",
              " 'Total Grads - % of cohort',\n",
              " 'Total Regents - n',\n",
              " 'Total Regents - % of cohort',\n",
              " 'Total Regents - % of grads',\n",
              " 'Advanced Regents - n',\n",
              " 'Advanced Regents - % of cohort',\n",
              " 'Advanced Regents - % of grads',\n",
              " 'Regents w/o Advanced - n',\n",
              " 'Regents w/o Advanced - % of cohort',\n",
              " 'Regents w/o Advanced - % of grads',\n",
              " 'Local - n',\n",
              " 'Local - % of cohort',\n",
              " 'Local - % of grads',\n",
              " 'Still Enrolled - n',\n",
              " 'Still Enrolled - % of cohort',\n",
              " 'Dropped Out - n',\n",
              " 'Dropped Out - % of cohort',\n",
              " 'CSD',\n",
              " 'NUMBER OF STUDENTS / SEATS FILLED',\n",
              " 'NUMBER OF SECTIONS',\n",
              " 'AVERAGE CLASS SIZE',\n",
              " 'SIZE OF SMALLEST CLASS',\n",
              " 'SIZE OF LARGEST CLASS',\n",
              " 'SCHOOLWIDE PUPIL-TEACHER RATIO',\n",
              " 'Name',\n",
              " 'schoolyear',\n",
              " 'fl_percent',\n",
              " 'frl_percent',\n",
              " 'total_enrollment',\n",
              " 'prek',\n",
              " 'k',\n",
              " 'grade1',\n",
              " 'grade2',\n",
              " 'grade3',\n",
              " 'grade4',\n",
              " 'grade5',\n",
              " 'grade6',\n",
              " 'grade7',\n",
              " 'grade8',\n",
              " 'grade9',\n",
              " 'grade10',\n",
              " 'grade11',\n",
              " 'grade12',\n",
              " 'ell_num',\n",
              " 'ell_percent',\n",
              " 'sped_num',\n",
              " 'sped_percent',\n",
              " 'ctt_num',\n",
              " 'selfcontained_num',\n",
              " 'asian_num',\n",
              " 'asian_per',\n",
              " 'black_num',\n",
              " 'black_per',\n",
              " 'hispanic_num',\n",
              " 'hispanic_per',\n",
              " 'white_num',\n",
              " 'white_per',\n",
              " 'male_num',\n",
              " 'male_per',\n",
              " 'female_num',\n",
              " 'female_per',\n",
              " 'rr_s',\n",
              " 'rr_t',\n",
              " 'rr_p',\n",
              " 'N_s',\n",
              " 'N_t',\n",
              " 'N_p',\n",
              " 'saf_p_11',\n",
              " 'com_p_11',\n",
              " 'eng_p_11',\n",
              " 'aca_p_11',\n",
              " 'saf_t_11',\n",
              " 'com_t_11',\n",
              " 'eng_t_11',\n",
              " 'aca_t_11',\n",
              " 'saf_s_11',\n",
              " 'com_s_11',\n",
              " 'eng_s_11',\n",
              " 'aca_s_11',\n",
              " 'saf_tot_11',\n",
              " 'com_tot_11',\n",
              " 'eng_tot_11',\n",
              " 'aca_tot_11',\n",
              " 'dbn',\n",
              " 'school_name',\n",
              " 'boro',\n",
              " 'building_code',\n",
              " 'phone_number',\n",
              " 'fax_number',\n",
              " 'grade_span_min',\n",
              " 'grade_span_max',\n",
              " 'expgrade_span_min',\n",
              " 'expgrade_span_max',\n",
              " 'bus',\n",
              " 'subway',\n",
              " 'primary_address_line_1',\n",
              " 'city',\n",
              " 'state_code',\n",
              " 'zip',\n",
              " 'website',\n",
              " 'total_students',\n",
              " 'campus_name',\n",
              " 'school_type',\n",
              " 'overview_paragraph',\n",
              " 'program_highlights',\n",
              " 'language_classes',\n",
              " 'advancedplacement_courses',\n",
              " 'online_ap_courses',\n",
              " 'online_language_courses',\n",
              " 'extracurricular_activities',\n",
              " 'psal_sports_boys',\n",
              " 'psal_sports_girls',\n",
              " 'psal_sports_coed',\n",
              " 'school_sports',\n",
              " 'partner_cbo',\n",
              " 'partner_hospital',\n",
              " 'partner_highered',\n",
              " 'partner_cultural',\n",
              " 'partner_nonprofit',\n",
              " 'partner_corporate',\n",
              " 'partner_financial',\n",
              " 'partner_other',\n",
              " 'addtl_info1',\n",
              " 'addtl_info2',\n",
              " 'start_time',\n",
              " 'end_time',\n",
              " 'se_services',\n",
              " 'ell_programs',\n",
              " 'school_accessibility_description',\n",
              " 'number_programs',\n",
              " 'priority01',\n",
              " 'priority02',\n",
              " 'priority03',\n",
              " 'priority04',\n",
              " 'priority05',\n",
              " 'priority06',\n",
              " 'priority07',\n",
              " 'priority08',\n",
              " 'priority09',\n",
              " 'priority10',\n",
              " 'Location 1',\n",
              " 'lat',\n",
              " 'lon',\n",
              " 'school_dist']"
            ]
          },
          "metadata": {
            "tags": []
          },
          "execution_count": 15
        }
      ]
    },
    {
      "cell_type": "code",
      "metadata": {
        "colab": {
          "base_uri": "https://localhost:8080/"
        },
        "id": "gN6ZOxurkWYU",
        "outputId": "d569734b-72d9-40f3-fa6c-b40866a354a7"
      },
      "source": [
        "# Compute the average safety score for each borough\n",
        "boros = combined.groupby(\"boro\").agg(np.mean)[\"saf_s_11\"]\n",
        "boros"
      ],
      "execution_count": 17,
      "outputs": [
        {
          "output_type": "execute_result",
          "data": {
            "text/plain": [
              "boro\n",
              "Bronx            6.606577\n",
              "Brooklyn         6.370755\n",
              "Manhattan        6.831370\n",
              "Queens           6.721875\n",
              "Staten Island    6.530000\n",
              "Name: saf_s_11, dtype: float64"
            ]
          },
          "metadata": {
            "tags": []
          },
          "execution_count": 17
        }
      ]
    },
    {
      "cell_type": "markdown",
      "metadata": {
        "id": "ZJp3Ufall30G"
      },
      "source": [
        "It looks like **Manhattan** and Queens tend to have higher safety scores, whereas Brooklyn has low safety scores.\n",
        "\n"
      ]
    },
    {
      "cell_type": "markdown",
      "metadata": {
        "id": "BF157DvQgC_D"
      },
      "source": [
        "## Exploring Race and SAT Scores"
      ]
    },
    {
      "cell_type": "markdown",
      "metadata": {
        "id": "7xpl9GRTkMNT"
      },
      "source": [
        "There are a few columns that indicate the percentage of each race at a given school:\n",
        "\n",
        "* white_per\n",
        "* asian_per\n",
        "* black_per\n",
        "* hispanic_per\n",
        "\n",
        "By plotting out the correlations between these columns and **sat_score**, we can determine whether there are any racial differences in SAT performance."
      ]
    },
    {
      "cell_type": "code",
      "metadata": {
        "colab": {
          "base_uri": "https://localhost:8080/",
          "height": 318
        },
        "id": "XkpVB8tbkfEj",
        "outputId": "61819cce-6916-4547-cfac-ac9b8debcf89"
      },
      "source": [
        "race_fields = ['white_per', 'asian_per', 'black_per', 'hispanic_per']\n",
        "\n",
        "# Make a bar plot of the correlations between the columns above and sat_score\n",
        "combined.corr()['sat_score'][race].plot.bar()\n",
        "plt.show()"
      ],
      "execution_count": 24,
      "outputs": [
        {
          "output_type": "display_data",
          "data": {
            "image/png": "[encoded data removed]",
            "text/plain": [
              "<Figure size 432x288 with 1 Axes>"
            ]
          },
          "metadata": {
            "tags": [],
            "needs_background": "light"
          }
        }
      ]
    },
    {
      "cell_type": "markdown",
      "metadata": {
        "id": "KsNXKL8zjL0n"
      },
      "source": [
        "\n",
        "It looks like a higher percentage of white or asian students at a school correlates positively with sat score, whereas a higher percentage of black or hispanic students correlates negatively with sat score. This may be due to a lack of funding for schools in certain areas, which are more likely to have a higher percentage of black or hispanic students."
      ]
    },
    {
      "cell_type": "code",
      "metadata": {
        "colab": {
          "base_uri": "https://localhost:8080/",
          "height": 280
        },
        "id": "dg17-cXOhFej",
        "outputId": "eb562a98-9f28-493c-f442-461df3536f04"
      },
      "source": [
        "combined.plot.scatter('hispanic_per', 'sat_score')\n",
        "plt.show()"
      ],
      "execution_count": 25,
      "outputs": [
        {
          "output_type": "display_data",
          "data": {
            "image/png": "[encoded data removed]",
            "text/plain": [
              "<Figure size 432x288 with 1 Axes>"
            ]
          },
          "metadata": {
            "tags": [],
            "needs_background": "light"
          }
        }
      ]
    },
    {
      "cell_type": "code",
      "metadata": {
        "colab": {
          "base_uri": "https://localhost:8080/"
        },
        "id": "OaGypefkiOjK",
        "outputId": "8de78822-2837-47b0-9b11-5466ba7e5849"
      },
      "source": [
        "school_high_hispanic_per = combined[combined['hispanic_per'] > 95]['SCHOOL NAME']\n",
        "school_high_hispanic"
      ],
      "execution_count": 28,
      "outputs": [
        {
          "output_type": "execute_result",
          "data": {
            "text/plain": [
              "44                         MANHATTAN BRIDGES HIGH SCHOOL\n",
              "82      WASHINGTON HEIGHTS EXPEDITIONARY LEARNING SCHOOL\n",
              "89     GREGORIO LUPERON HIGH SCHOOL FOR SCIENCE AND M...\n",
              "125                  ACADEMY FOR LANGUAGE AND TECHNOLOGY\n",
              "141                INTERNATIONAL SCHOOL FOR LIBERAL ARTS\n",
              "176     PAN AMERICAN INTERNATIONAL HIGH SCHOOL AT MONROE\n",
              "253                            MULTICULTURAL HIGH SCHOOL\n",
              "286               PAN AMERICAN INTERNATIONAL HIGH SCHOOL\n",
              "Name: SCHOOL NAME, dtype: object"
            ]
          },
          "metadata": {
            "tags": []
          },
          "execution_count": 28
        }
      ]
    },
    {
      "cell_type": "markdown",
      "metadata": {
        "id": "mBpsBj4WjkwB"
      },
      "source": [
        "\n",
        "The schools listed above appear to primarily be geared towards recent immigrants to the US. These schools have a lot of students who are learning English, which would explain the lower SAT scores."
      ]
    },
    {
      "cell_type": "code",
      "metadata": {
        "colab": {
          "base_uri": "https://localhost:8080/"
        },
        "id": "9gAazvHdiZB5",
        "outputId": "43daf47d-9983-4490-ff1d-1a1ccab7ea99"
      },
      "source": [
        "school_low_hispanic_per = combined[(combined['hispanic_per'] < 10) & (combined['sat_score'] > 1800)]['SCHOOL NAME']\n",
        "school_low_hispanic_per"
      ],
      "execution_count": 30,
      "outputs": [
        {
          "output_type": "execute_result",
          "data": {
            "text/plain": [
              "37                                STUYVESANT HIGH SCHOOL\n",
              "151                         BRONX HIGH SCHOOL OF SCIENCE\n",
              "187                       BROOKLYN TECHNICAL HIGH SCHOOL\n",
              "327    QUEENS HIGH SCHOOL FOR THE SCIENCES AT YORK CO...\n",
              "356                  STATEN ISLAND TECHNICAL HIGH SCHOOL\n",
              "Name: SCHOOL NAME, dtype: object"
            ]
          },
          "metadata": {
            "tags": []
          },
          "execution_count": 30
        }
      ]
    },
    {
      "cell_type": "markdown",
      "metadata": {
        "id": "_4uErZWXj4xh"
      },
      "source": [
        "\n",
        "Many of the schools above appear to be specialized science and technology schools that receive extra funding, and only admit students who pass an entrance exam. This doesn't explain the low **hispanic_per**, but it does explain why their students tend to do better on the SAT -- they are students from all over New York City who did well on a standardized test."
      ]
    },
    {
      "cell_type": "markdown",
      "metadata": {
        "id": "XbhN88B6kfXp"
      },
      "source": [
        "## Exploring Gender and SAT Scores "
      ]
    },
    {
      "cell_type": "markdown",
      "metadata": {
        "id": "Mz6Vf4RjkkSO"
      },
      "source": [
        "There are two columns that indicate the percentage of each gender at a school:\n",
        "\n",
        "* male_per\n",
        "* female_per"
      ]
    },
    {
      "cell_type": "code",
      "metadata": {
        "id": "69uS4B9Ui_eS"
      },
      "source": [
        ""
      ],
      "execution_count": null,
      "outputs": []
    }
  ]
}